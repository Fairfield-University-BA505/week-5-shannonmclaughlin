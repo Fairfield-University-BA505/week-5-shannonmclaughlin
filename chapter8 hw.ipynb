{
 "cells": [
  {
   "cell_type": "code",
   "execution_count": 7,
   "metadata": {},
   "outputs": [],
   "source": [
    "import random\n",
    "def lst_gen():\n",
    "    int_lst = []\n",
    "    i = random.randint(5,7) # complete code here to generate a value between 0 and 5\n",
    "    # generates `i` random integers and store them in `int_lst`\n",
    "    for x in range(i + 1):\n",
    "        rand_int = random.randint(0,9) # complete code here to generate a value between 0 and 9\n",
    "        int_lst.append(rand_int)\n",
    "    \n",
    "    return(int_lst)"
   ]
  },
  {
   "cell_type": "code",
   "execution_count": 8,
   "metadata": {},
   "outputs": [
    {
     "data": {
      "text/plain": [
       "[6, 9, 8, 6, 1, 2]"
      ]
     },
     "execution_count": 8,
     "metadata": {},
     "output_type": "execute_result"
    }
   ],
   "source": [
    "test_lst = lst_gen()\n",
    "test_lst"
   ]
  },
  {
   "cell_type": "code",
   "execution_count": 9,
   "metadata": {},
   "outputs": [
    {
     "data": {
      "text/plain": [
       "[6, 9, 8, 6, 1]"
      ]
     },
     "execution_count": 9,
     "metadata": {},
     "output_type": "execute_result"
    }
   ],
   "source": [
    "test_lst[:-1]"
   ]
  },
  {
   "cell_type": "code",
   "execution_count": 12,
   "metadata": {},
   "outputs": [
    {
     "data": {
      "text/plain": [
       "[6, 1, 2]"
      ]
     },
     "execution_count": 12,
     "metadata": {},
     "output_type": "execute_result"
    }
   ],
   "source": [
    "test_lst[-3:]"
   ]
  },
  {
   "cell_type": "code",
   "execution_count": 17,
   "metadata": {},
   "outputs": [
    {
     "name": "stdout",
     "output_type": "stream",
     "text": [
      "[1, 2]\n"
     ]
    }
   ],
   "source": [
    "n = 2\n",
    "print(test_lst[-n:])"
   ]
  },
  {
   "cell_type": "code",
   "execution_count": 14,
   "metadata": {},
   "outputs": [
    {
     "name": "stdin",
     "output_type": "stream",
     "text": [
      " text\n"
     ]
    },
    {
     "name": "stdout",
     "output_type": "stream",
     "text": [
      "Please enter an integer!\n"
     ]
    }
   ],
   "source": [
    "n = input()\n",
    "\n",
    "try:\n",
    "    n = int(n)\n",
    "except:\n",
    "    print(\"Please enter an integer!\")"
   ]
  },
  {
   "cell_type": "code",
   "execution_count": 19,
   "metadata": {},
   "outputs": [
    {
     "name": "stdout",
     "output_type": "stream",
     "text": [
      "[1, 2]\n"
     ]
    }
   ],
   "source": [
    "if n > len(\"test_lst\"):\n",
    "    print(\"Please enter a valid integer!\")\n",
    "elif n == 0:\n",
    "    print([])\n",
    "else:\n",
    "    print(test_lst[-n:])\n",
    "    "
   ]
  },
  {
   "cell_type": "code",
   "execution_count": 21,
   "metadata": {},
   "outputs": [
    {
     "ename": "SyntaxError",
     "evalue": "unexpected EOF while parsing (<ipython-input-21-fd2d315b9cf7>, line 3)",
     "output_type": "error",
     "traceback": [
      "\u001b[0;36m  File \u001b[0;32m\"<ipython-input-21-fd2d315b9cf7>\"\u001b[0;36m, line \u001b[0;32m3\u001b[0m\n\u001b[0;31m    print(\"Please enter a valid integer!\")\u001b[0m\n\u001b[0m                                          ^\u001b[0m\n\u001b[0;31mSyntaxError\u001b[0m\u001b[0;31m:\u001b[0m unexpected EOF while parsing\n"
     ]
    }
   ],
   "source": [
    "try:\n",
    "    if n > len(\"test_lst\"):\n",
    "        print(\"Please enter a valid integer!\")"
   ]
  },
  {
   "cell_type": "code",
   "execution_count": 24,
   "metadata": {},
   "outputs": [
    {
     "name": "stdin",
     "output_type": "stream",
     "text": [
      " python\n"
     ]
    },
    {
     "ename": "TypeError",
     "evalue": "'>' not supported between instances of 'str' and 'int'",
     "output_type": "error",
     "traceback": [
      "\u001b[0;31m---------------------------------------------------------------------------\u001b[0m",
      "\u001b[0;31mTypeError\u001b[0m                                 Traceback (most recent call last)",
      "\u001b[0;32m<ipython-input-24-5458bbc42c81>\u001b[0m in \u001b[0;36m<module>\u001b[0;34m\u001b[0m\n\u001b[1;32m      1\u001b[0m \u001b[0mn\u001b[0m \u001b[0;34m=\u001b[0m \u001b[0minput\u001b[0m\u001b[0;34m(\u001b[0m\u001b[0;34m)\u001b[0m\u001b[0;34m\u001b[0m\u001b[0;34m\u001b[0m\u001b[0m\n\u001b[1;32m      2\u001b[0m \u001b[0;34m\u001b[0m\u001b[0m\n\u001b[0;32m----> 3\u001b[0;31m \u001b[0;32mif\u001b[0m \u001b[0mn\u001b[0m \u001b[0;34m>\u001b[0m \u001b[0mlen\u001b[0m\u001b[0;34m(\u001b[0m\u001b[0mtest_lst\u001b[0m\u001b[0;34m)\u001b[0m\u001b[0;34m:\u001b[0m\u001b[0;34m\u001b[0m\u001b[0;34m\u001b[0m\u001b[0m\n\u001b[0m\u001b[1;32m      4\u001b[0m     \u001b[0mprint\u001b[0m\u001b[0;34m(\u001b[0m\u001b[0;34m\"Please enter a valid integer\"\u001b[0m\u001b[0;34m)\u001b[0m\u001b[0;34m\u001b[0m\u001b[0;34m\u001b[0m\u001b[0m\n\u001b[1;32m      5\u001b[0m \u001b[0;32melif\u001b[0m \u001b[0mn\u001b[0m \u001b[0;34m==\u001b[0m \u001b[0;36m0\u001b[0m\u001b[0;34m:\u001b[0m\u001b[0;34m\u001b[0m\u001b[0;34m\u001b[0m\u001b[0m\n",
      "\u001b[0;31mTypeError\u001b[0m: '>' not supported between instances of 'str' and 'int'"
     ]
    }
   ],
   "source": [
    "n = input()\n",
    "\n",
    "if n > len(test_lst):\n",
    "    print(\"Please enter a valid integer\")\n",
    "elif n == 0:\n",
    "    print([])\n",
    "else:\n",
    "    print(test_lst[-n:])\n",
    "\n",
    "try: \n",
    "    n = int(n)\n",
    "except:\n",
    "    print(\"Please enter an integer\")\n",
    "    "
   ]
  },
  {
   "cell_type": "code",
   "execution_count": 31,
   "metadata": {},
   "outputs": [],
   "source": [
    "def my_func():\n",
    "    n = input()\n",
    "\n",
    "    try: \n",
    "        n = int(n)\n",
    "    except:\n",
    "        return(\"Please enter an integer\")\n",
    "    if (n > len(test_lst) or n < 0): #want people to know its not valid rather than giving them an empty list\n",
    "        return(\"Please enter a valid integer\")\n",
    "    elif n == 0:\n",
    "        return([])\n",
    "    else:\n",
    "        return(test_lst[-n:])\n",
    "\n"
   ]
  },
  {
   "cell_type": "code",
   "execution_count": 32,
   "metadata": {},
   "outputs": [
    {
     "name": "stdin",
     "output_type": "stream",
     "text": [
      " -2\n"
     ]
    },
    {
     "data": {
      "text/plain": [
       "'Please enter a valid integer'"
      ]
     },
     "execution_count": 32,
     "metadata": {},
     "output_type": "execute_result"
    }
   ],
   "source": [
    "my_func()"
   ]
  },
  {
   "cell_type": "code",
   "execution_count": 2,
   "metadata": {},
   "outputs": [
    {
     "name": "stdin",
     "output_type": "stream",
     "text": [
      "please Enter the radius of circle:  1\n",
      "please Enter the angle value:  90\n"
     ]
    },
    {
     "name": "stdout",
     "output_type": "stream",
     "text": [
      "the arc Length will be : 1.57\n"
     ]
    }
   ],
   "source": [
    "#python code for finding the arc length of the angle.\n",
    "##impotr math package to use math.pi for the value of PI \n",
    "import math\n",
    "#create a function to calculate the arc length.\n",
    "def arclength():\n",
    "    # take input diameter and angle .\n",
    "    r= float(input(\"please Enter the radius of circle: \"))\n",
    "    Angle = float(input(\"please Enter the angle value: \"))\n",
    "    # checking for the angle validation \n",
    "    if Angle >= 360:\n",
    "        print(\"Invalid angle entered \")\n",
    "        return\n",
    "    #calculate  arc length.\n",
    "    Arc_length = (math.pi*2*r) * (Angle/360)\n",
    "    print(\"the arc Length will be : %.2f\" %Arc_length)\n",
    "#function call\n",
    "arclength()"
   ]
  },
  {
   "cell_type": "code",
   "execution_count": 4,
   "metadata": {},
   "outputs": [
    {
     "name": "stdin",
     "output_type": "stream",
     "text": [
      "Radius of Circle:  1\n",
      "angle measure:  90\n"
     ]
    },
    {
     "name": "stdout",
     "output_type": "stream",
     "text": [
      "Sector Area:  0.7857142857142857\n"
     ]
    }
   ],
   "source": [
    "def areaofarc():\n",
    "    pi=22/7\n",
    "    radius = float(input('Radius of Circle: '))\n",
    "    angle = float(input('angle measure: '))\n",
    "    if angle >= 360:\n",
    "        print(\"Angle is not possible\")\n",
    "        return\n",
    "    sur_area = (pi*radius**2) * (angle/360)\n",
    "    print(\"Sector Area: \", sur_area)\n",
    "\n",
    "areaofarc()"
   ]
  },
  {
   "cell_type": "code",
   "execution_count": 5,
   "metadata": {},
   "outputs": [
    {
     "name": "stdout",
     "output_type": "stream",
     "text": [
      "The factors of 3 are:\n",
      "1\n",
      "3\n"
     ]
    }
   ],
   "source": [
    "# find factors of a random number \n",
    "import random\n",
    "#takes a number and prints factors\n",
    "def print_factors(x):\n",
    "#format the sentence \n",
    "   print(\"The factors of\",x,\"are:\")\n",
    "   for i in range(1, x + 1):\n",
    "       if x % i == 0: #shows that x is divisble by a number \n",
    "           print(i)\n",
    "# select a random number from 1 to 50\n",
    "num = random.randint(1, 50)\n",
    "\n",
    "\n",
    "print_factors(num) #print out factors of the random number "
   ]
  },
  {
   "cell_type": "code",
   "execution_count": 8,
   "metadata": {},
   "outputs": [
    {
     "name": "stdout",
     "output_type": "stream",
     "text": [
      "0 15 30 45 60 75 90 "
     ]
    }
   ],
   "source": [
    "# Python program to print all the numbers \n",
    "# divisible by 3 and 5 for a given number \n",
    "  \n",
    "# Result function with N \n",
    "def result(N): \n",
    "      \n",
    "    # iterate from 0 to N \n",
    "    for num in range(N): \n",
    "          \n",
    "            # Short-circuit operator is used  \n",
    "            if num % 3 == 0 and num % 5 == 0: \n",
    "                print(str(num) + \" \", end = \"\") \n",
    "                  \n",
    "            else: \n",
    "                pass\n",
    "  \n",
    "# Driver code \n",
    "if __name__ == \"__main__\": \n",
    "      \n",
    "    # input goes here \n",
    "    N = 100\n",
    "      \n",
    "    # Calling function \n",
    "    result(N) \n",
    "\n",
    "import math\n"
   ]
  },
  {
   "cell_type": "code",
   "execution_count": null,
   "metadata": {},
   "outputs": [],
   "source": []
  }
 ],
 "metadata": {
  "kernelspec": {
   "display_name": "Python 3",
   "language": "python",
   "name": "python3"
  },
  "language_info": {
   "codemirror_mode": {
    "name": "ipython",
    "version": 3
   },
   "file_extension": ".py",
   "mimetype": "text/x-python",
   "name": "python",
   "nbconvert_exporter": "python",
   "pygments_lexer": "ipython3",
   "version": "3.6.7"
  }
 },
 "nbformat": 4,
 "nbformat_minor": 2
}
